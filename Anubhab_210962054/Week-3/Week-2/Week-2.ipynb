{
 "cells": [
  {
   "cell_type": "code",
   "execution_count": 36,
   "metadata": {},
   "outputs": [],
   "source": [
    "import pyspark\n",
    "import os\n",
    "import sys\n",
    "from pyspark import SparkContext\n",
    "from pyspark import SparkConf\n",
    "os.environ['PYSPARK_PYTHON'] = sys.executable\n",
    "os.environ['PYSPARK_DRIVER_PYTHON'] = sys.executable\n",
    "from pyspark.sql import SparkSession"
   ]
  },
  {
   "cell_type": "code",
   "execution_count": 37,
   "metadata": {},
   "outputs": [],
   "source": [
    "spark = SparkSession.builder.config(\"spark.driver.memory\", \"4g\").appName('square').getOrCreate()"
   ]
  },
  {
   "cell_type": "code",
   "execution_count": 38,
   "metadata": {},
   "outputs": [
    {
     "name": "stdout",
     "output_type": "stream",
     "text": [
      "Count 5\n",
      "+----+--------+\n",
      "|roll|    name|\n",
      "+----+--------+\n",
      "|   1| Anubhab|\n",
      "|   2|   Bobby|\n",
      "|   3|  Carrot|\n",
      "|   4|     Ded|\n",
      "|   5|Eeeewwww|\n",
      "+----+--------+\n",
      "\n",
      "root\n",
      " |-- roll: long (nullable = true)\n",
      " |-- name: string (nullable = true)\n",
      "\n",
      "+----+-------+-----+\n",
      "|roll|   name|marks|\n",
      "+----+-------+-----+\n",
      "|   1|Anubhab|   10|\n",
      "+----+-------+-----+\n",
      "\n",
      "+----+-------+-----+\n",
      "|roll|   name|marks|\n",
      "+----+-------+-----+\n",
      "|   1|Anubhab|   10|\n",
      "+----+-------+-----+\n",
      "\n"
     ]
    }
   ],
   "source": [
    "import pandas as pd\n",
    "from pyspark.sql import functions as F\n",
    "df = spark.createDataFrame([\n",
    "(1, \"Anubhab\"),\n",
    "(2, \"Bobby\"),\n",
    "(3, \"Carrot\"),\n",
    "(4, \"Ded\"),\n",
    "(5, \"Eeeewwww\")\n",
    "], [\"roll\", \"name\"])\n",
    "print(\"Count\",df.count())\n",
    "df.show()\n",
    "df.printSchema() # It will print the Schema\n",
    "df = df.filter(df[\"name\"].startswith(\"A\"))\n",
    "df = df.withColumn(\"marks\", df[\"roll\"] * 10)\n",
    "df.write.csv('DTA.csv')\n",
    "df.show()\n",
    "df.show()"
   ]
  },
  {
   "cell_type": "code",
   "execution_count": 39,
   "metadata": {},
   "outputs": [
    {
     "name": "stdout",
     "output_type": "stream",
     "text": [
      "root\n",
      " |-- integers: long (nullable = true)\n",
      " |-- floats: double (nullable = true)\n",
      " |-- integer_arrays: array (nullable = true)\n",
      " |    |-- element: long (containsNull = true)\n",
      "\n",
      "+-------------+\n",
      "|sum(integers)|\n",
      "+-------------+\n",
      "|            6|\n",
      "+-------------+\n",
      "\n",
      "+-------------+\n",
      "|avg(integers)|\n",
      "+-------------+\n",
      "|          2.0|\n",
      "+-------------+\n",
      "\n",
      "+-------------+\n",
      "|avg(integers)|\n",
      "+-------------+\n",
      "|          2.0|\n",
      "+-------------+\n",
      "\n",
      "+-------------+\n",
      "|min(integers)|\n",
      "+-------------+\n",
      "|            1|\n",
      "+-------------+\n",
      "\n",
      "+-------------+\n",
      "|max(integers)|\n",
      "+-------------+\n",
      "|            3|\n",
      "+-------------+\n",
      "\n",
      "+--------+------+--------------+\n",
      "|integers|floats|integer_arrays|\n",
      "+--------+------+--------------+\n",
      "|       1|  -1.0|        [1, 2]|\n",
      "|       2|   0.5|     [3, 4, 5]|\n",
      "|       3|   2.7|  [6, 7, 8, 9]|\n",
      "+--------+------+--------------+\n",
      "\n"
     ]
    }
   ],
   "source": [
    "import pandas as pd\n",
    "from pyspark.sql import functions as F\n",
    "df_pd = pd.DataFrame(\n",
    "data={'integers': [1, 2, 3],\n",
    "'floats': [-1.0, 0.5, 2.7],\n",
    "'integer_arrays': [[1, 2], [3, 4, 5], [6, 7, 8, 9]]}\n",
    ")\n",
    "df = spark.createDataFrame(df_pd)\n",
    "df.printSchema() # It will print the Schema\n",
    "from pyspark.sql.functions import col, avg, sum, min, max\n",
    "\n",
    "df.agg(sum(\"integers\")).show()\n",
    "df.agg(avg(\"integers\")).show()\n",
    "df.select(avg(col(\"integers\"))).show()\n",
    "df.agg(min(\"integers\")).show()\n",
    "df.agg(max(\"integers\")).show()\n",
    "df.show()"
   ]
  },
  {
   "cell_type": "code",
   "execution_count": 40,
   "metadata": {},
   "outputs": [
    {
     "name": "stdout",
     "output_type": "stream",
     "text": [
      "hule: 4\n",
      "hula: 1\n",
      "re: 1\n",
      "wakkawoooooo: 1\n",
      "+------------+-----+\n",
      "|        word|count|\n",
      "+------------+-----+\n",
      "|        hule|    4|\n",
      "|        hula|    1|\n",
      "|          re|    1|\n",
      "|wakkawoooooo|    1|\n",
      "+------------+-----+\n",
      "\n"
     ]
    }
   ],
   "source": [
    "sc = SparkContext.getOrCreate(SparkConf().setMaster(\"local[*]\"))\n",
    "# Load the text file\n",
    "lines = sc.textFile(\"sentence.txt\")\n",
    "counts = lines.flatMap(lambda line: line.split(\" \")) \\\n",
    ".map(lambda word: (word, 1)) \\\n",
    ".reduceByKey(lambda x, y: x + y)\n",
    "output = counts.collect()\n",
    "for (word, count) in output:\n",
    "    print(\"%s: %i\" % (word, count))\n",
    "from pyspark.sql import SparkSession\n",
    "from pyspark.sql import functions as f\n",
    "spark = SparkSession.builder.getOrCreate()\n",
    "lines = spark.read.text(\"sentence.txt\")\n",
    "words = lines.withColumn('word', f.explode(f.split(f.col('value'), ' '))).groupBy('word').count()\\\n",
    ".sort('count', ascending=False)\\\n",
    ".show()\n",
    "spark.stop()"
   ]
  },
  {
   "cell_type": "code",
   "execution_count": null,
   "metadata": {},
   "outputs": [],
   "source": []
  },
  {
   "cell_type": "code",
   "execution_count": null,
   "metadata": {},
   "outputs": [],
   "source": []
  }
 ],
 "metadata": {
  "kernelspec": {
   "display_name": "Python 3",
   "language": "python",
   "name": "python3"
  },
  "language_info": {
   "codemirror_mode": {
    "name": "ipython",
    "version": 3
   },
   "file_extension": ".py",
   "mimetype": "text/x-python",
   "name": "python",
   "nbconvert_exporter": "python",
   "pygments_lexer": "ipython3",
   "version": "3.7.0"
  }
 },
 "nbformat": 4,
 "nbformat_minor": 2
}
