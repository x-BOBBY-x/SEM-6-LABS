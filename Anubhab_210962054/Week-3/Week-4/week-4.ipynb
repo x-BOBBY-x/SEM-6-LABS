{
 "cells": [
  {
   "cell_type": "markdown",
   "metadata": {},
   "source": [
    "# Q1"
   ]
  },
  {
   "cell_type": "code",
   "execution_count": 6,
   "metadata": {
    "scrolled": true
   },
   "outputs": [
    {
     "name": "stdout",
     "output_type": "stream",
     "text": [
      "root\n",
      " |-- user_id: string (nullable = true)\n",
      " |-- product_id: string (nullable = true)\n",
      " |-- score: double (nullable = true)\n",
      "\n",
      "+--------------+----------+-----+\n",
      "|       user_id|product_id|score|\n",
      "+--------------+----------+-----+\n",
      "|A141HP4LYPWMSR|B003AI2VGA|  3.0|\n",
      "|A328S9RN3U5M68|B003AI2VGA|  3.0|\n",
      "|A1I7QGUDP043DG|B003AI2VGA|  5.0|\n",
      "|A1M5405JH9THP9|B003AI2VGA|  3.0|\n",
      "| ATXL536YX71TR|B003AI2VGA|  3.0|\n",
      "|A3QYDL5CDNYN66|B003AI2VGA|  2.0|\n",
      "| AQJVNDW6YZFQS|B003AI2VGA|  1.0|\n",
      "| AD4CDZK7D31XP|B00006HAXW|  5.0|\n",
      "|A3Q4S5DFVPB70D|B00006HAXW|  5.0|\n",
      "|A2P7UB02HAVEPB|B00006HAXW|  5.0|\n",
      "|A2TX99AZKDK0V7|B00006HAXW|  4.0|\n",
      "| AFC8IKR407HSK|B00006HAXW|  5.0|\n",
      "|A1FRPGQYQTAOR1|B00006HAXW|  5.0|\n",
      "|A1RSDE90N6RSZF|B00006HAXW|  5.0|\n",
      "|A1OUBOGB5970AO|B00006HAXW|  4.0|\n",
      "|A3NPHQVIY59Y0Y|B00006HAXW|  5.0|\n",
      "| AFKMBAY28XO8A|B00006HAXW|  5.0|\n",
      "| A66KMXH9V7OGU|B00006HAXW|  5.0|\n",
      "| AFJ27ZV9183B8|B00006HAXW|  5.0|\n",
      "| AXMKAXC0TR9AW|B00006HAXW|  5.0|\n",
      "+--------------+----------+-----+\n",
      "only showing top 20 rows\n",
      "\n"
     ]
    }
   ],
   "source": [
    "from pyspark.sql import SparkSession\n",
    "\n",
    "spark = SparkSession.builder.appName(\"MovieRecommendation\").getOrCreate()\n",
    "ratings = spark.read.json(\"movies.json\").select(\"user_id\", \"product_id\", \"score\")\n",
    "ratings.cache()\n",
    "\n",
    "ratings.printSchema()\n",
    "ratings.show()"
   ]
  },
  {
   "cell_type": "markdown",
   "metadata": {},
   "source": [
    "# Q2"
   ]
  },
  {
   "cell_type": "code",
   "execution_count": 7,
   "metadata": {},
   "outputs": [
    {
     "name": "stdout",
     "output_type": "stream",
     "text": [
      "+--------------+----------+-----+-------------+----------------+----------+\n",
      "|user_id       |product_id|score|user_id_index|product_id_index|prediction|\n",
      "+--------------+----------+-----+-------------+----------------+----------+\n",
      "|A2EIEXQVCPXZNG|B0001G6PZC|3.0  |897.0        |7.0             |1.095872  |\n",
      "|A1YR4OM2QLQ1LY|B0002V7TJM|4.0  |1339.0       |680.0           |4.1145973 |\n",
      "|ADEETJWRKD6OA |B000063W82|5.0  |5287.0       |6.0             |-1.3428309|\n",
      "|AX9J0U8J6XTCY |B0001G6PZC|5.0  |1903.0       |7.0             |3.4624398 |\n",
      "|AQ01Q3070LT29 |B000063W1R|1.0  |53.0         |37.0            |10.190427 |\n",
      "|A1TW9ZGRDQQZ2Y|B0001G6PZC|5.0  |133.0        |7.0             |5.2124743 |\n",
      "|APW72P4COWTBK |B0001G6PZC|5.0  |5670.0       |7.0             |2.5696666 |\n",
      "|A3OIZEXS8CGBOD|B0001G6PZC|1.0  |1005.0       |7.0             |0.99860936|\n",
      "|A3OIZEXS8CGBOD|B0001G6PZC|1.0  |1005.0       |7.0             |0.99860936|\n",
      "|A3OIZEXS8CGBOD|B0001G6PZC|1.0  |1005.0       |7.0             |0.99860936|\n",
      "+--------------+----------+-----+-------------+----------------+----------+\n",
      "only showing top 10 rows\n",
      "\n"
     ]
    }
   ],
   "source": [
    "from pyspark.ml.recommendation import ALS\n",
    "from pyspark.ml.evaluation import RegressionEvaluator\n",
    "from pyspark.ml.feature import StringIndexer\n",
    "from pyspark.ml import Pipeline\n",
    "\n",
    "indexers = [\n",
    "    StringIndexer(inputCol=column, outputCol=column+\"_index\").fit(ratings)\n",
    "    for column in [\"user_id\", \"product_id\"]\n",
    "]\n",
    "\n",
    "pipeline = Pipeline(stages=indexers)\n",
    "ratings_indexed = pipeline.fit(ratings).transform(ratings)\n",
    "\n",
    "training_data,validation_data = ratings_indexed.randomSplit([8.0,2.0])\n",
    "\n",
    "als = ALS(userCol=\"user_id_index\",itemCol=\"product_id_index\",ratingCol=\"score\",rank=10,maxIter=5,regParam=0.01,coldStartStrategy=\"drop\")\n",
    "evaluator = RegressionEvaluator(metricName=\"rmse\",labelCol=\"score\",predictionCol=\"prediction\")\n",
    "\n",
    "model = als.fit(training_data)\n",
    "predictions=model.transform(validation_data)\n",
    "predictions.show(10,False)"
   ]
  },
  {
   "cell_type": "markdown",
   "metadata": {},
   "source": [
    "# Q3"
   ]
  },
  {
   "cell_type": "code",
   "execution_count": 8,
   "metadata": {},
   "outputs": [
    {
     "name": "stdout",
     "output_type": "stream",
     "text": [
      "+----------+--------------+-------------+----------------+\n",
      "|product_id|       user_id|user_id_index|product_id_index|\n",
      "+----------+--------------+-------------+----------------+\n",
      "|B000UGBOT0|A2NJO6YE954DBH|          1.0|            78.0|\n",
      "|6303998690|A2NJO6YE954DBH|          1.0|           408.0|\n",
      "|B000AMWIVM|A2NJO6YE954DBH|          1.0|            11.0|\n",
      "|B000AMWIVM|A2NJO6YE954DBH|          1.0|            11.0|\n",
      "|B001QB5SCM|A2NJO6YE954DBH|          1.0|            87.0|\n",
      "|6301798708|A2NJO6YE954DBH|          1.0|           198.0|\n",
      "|B0000DK4QK|A2NJO6YE954DBH|          1.0|            51.0|\n",
      "|B0072V6PPE|A2NJO6YE954DBH|          1.0|            53.0|\n",
      "|B000083EDB|A2NJO6YE954DBH|          1.0|            61.0|\n",
      "|B000OYTPJO|A2NJO6YE954DBH|          1.0|           112.0|\n",
      "|B00004CZR2|A2NJO6YE954DBH|          1.0|            55.0|\n",
      "|B00005Y6YQ|A2NJO6YE954DBH|          1.0|           376.0|\n",
      "|B00005Y6YQ|A2NJO6YE954DBH|          1.0|           376.0|\n",
      "|B000XJSL9U|A2NJO6YE954DBH|          1.0|            14.0|\n",
      "+----------+--------------+-------------+----------------+\n",
      "\n",
      "+----------+--------------+-------------+----------------+-----------+\n",
      "|product_id|       user_id|user_id_index|product_id_index| prediction|\n",
      "+----------+--------------+-------------+----------------+-----------+\n",
      "|B001QB5SCM|A2NJO6YE954DBH|          1.0|            87.0|  5.4937944|\n",
      "|B00004CZR2|A2NJO6YE954DBH|          1.0|            55.0|  2.4990072|\n",
      "|B000AMWIVM|A2NJO6YE954DBH|          1.0|            11.0|  2.1022592|\n",
      "|B000AMWIVM|A2NJO6YE954DBH|          1.0|            11.0|  2.1022592|\n",
      "|6301798708|A2NJO6YE954DBH|          1.0|           198.0|  1.7619634|\n",
      "|B000XJSL9U|A2NJO6YE954DBH|          1.0|            14.0|  1.7213156|\n",
      "|B000OYTPJO|A2NJO6YE954DBH|          1.0|           112.0|  1.6314865|\n",
      "|B000UGBOT0|A2NJO6YE954DBH|          1.0|            78.0| 0.39141005|\n",
      "|B0072V6PPE|A2NJO6YE954DBH|          1.0|            53.0|-0.16164172|\n",
      "|B0000DK4QK|A2NJO6YE954DBH|          1.0|            51.0| -1.7391055|\n",
      "|B000083EDB|A2NJO6YE954DBH|          1.0|            61.0| -2.2218072|\n",
      "|6303998690|A2NJO6YE954DBH|          1.0|           408.0|  -8.487963|\n",
      "|B00005Y6YQ|A2NJO6YE954DBH|          1.0|           376.0| -10.864899|\n",
      "|B00005Y6YQ|A2NJO6YE954DBH|          1.0|           376.0| -10.864899|\n",
      "+----------+--------------+-------------+----------------+-----------+\n",
      "\n"
     ]
    }
   ],
   "source": [
    "user1 = validation_data.filter(validation_data['user_id_index']==1.0).select(['product_id','user_id','user_id_index','product_id_index'])\n",
    "user1.show()\n",
    "recommendations = model.transform(user1) \n",
    "recommendations.orderBy('prediction',ascending=False).show()\n"
   ]
  },
  {
   "cell_type": "markdown",
   "metadata": {},
   "source": [
    "# Q4"
   ]
  },
  {
   "cell_type": "code",
   "execution_count": 9,
   "metadata": {},
   "outputs": [
    {
     "name": "stdout",
     "output_type": "stream",
     "text": [
      "Root Mean Squared Error (RMSE) = 5.111305408388869\n",
      "Mean Absolute Error (MAE) = 3.259489457352753\n"
     ]
    }
   ],
   "source": [
    "rmse = evaluator.evaluate(predictions)\n",
    "print(f\"Root Mean Squared Error (RMSE) = {rmse}\")\n",
    "\n",
    "# Additional Evaluation Metric: Mean Absolute Error (MAE)\n",
    "evaluator_mae = RegressionEvaluator(\n",
    "    metricName=\"mae\",\n",
    "    labelCol=\"score\",\n",
    "    predictionCol=\"prediction\"\n",
    ")\n",
    "\n",
    "mae = evaluator_mae.evaluate(predictions)\n",
    "print(f\"Mean Absolute Error (MAE) = {mae}\")\n"
   ]
  },
  {
   "cell_type": "code",
   "execution_count": null,
   "metadata": {},
   "outputs": [],
   "source": []
  }
 ],
 "metadata": {
  "kernelspec": {
   "display_name": "Python 3",
   "language": "python",
   "name": "python3"
  },
  "language_info": {
   "codemirror_mode": {
    "name": "ipython",
    "version": 3
   },
   "file_extension": ".py",
   "mimetype": "text/x-python",
   "name": "python",
   "nbconvert_exporter": "python",
   "pygments_lexer": "ipython3",
   "version": "3.7.0"
  }
 },
 "nbformat": 4,
 "nbformat_minor": 2
}
